{
 "cells": [
  {
   "cell_type": "code",
   "execution_count": 6,
   "metadata": {},
   "outputs": [
    {
     "name": "stdout",
     "output_type": "stream",
     "text": [
      "1440\n",
      "1434\n",
      "1440\n",
      "1440\n",
      "1439\n",
      "1440\n",
      "960\n",
      "1440\n",
      "1440\n",
      "1440\n",
      "1440\n",
      "1440\n",
      "1440\n",
      "1440\n",
      "1440\n",
      "1440\n",
      "1440\n",
      "1440\n",
      "1440\n",
      "1440\n",
      "1440\n",
      "1438\n",
      "1440\n",
      "1440\n",
      "1440\n",
      "1440\n",
      "1439\n",
      "1440\n",
      "1440\n",
      "1440\n",
      "1440\n",
      "1440\n",
      "1440\n",
      "1440\n",
      "1440\n",
      "1409\n",
      "1440\n",
      "1440\n",
      "1440\n",
      "1440\n",
      "1440\n",
      "1440\n",
      "1440\n",
      "1440\n",
      "1440\n",
      "1440\n",
      "537\n",
      "777\n",
      "0\n",
      "0\n",
      "0\n",
      "0\n",
      "0\n",
      "0\n",
      "0\n"
     ]
    }
   ],
   "source": [
    "import glob\n",
    "import os\n",
    "\n",
    "day_files = sorted(glob.glob(\"save_img/*\"))\n",
    "\n",
    "for df in day_files:\n",
    "    hour_files = sorted(glob.glob(os.path.join(df,\"*\")))\n",
    "    print(len(hour_files))\n"
   ]
  },
  {
   "cell_type": "code",
   "execution_count": null,
   "metadata": {},
   "outputs": [],
   "source": []
  }
 ],
 "metadata": {
  "kernelspec": {
   "display_name": "yolov9",
   "language": "python",
   "name": "python3"
  },
  "language_info": {
   "codemirror_mode": {
    "name": "ipython",
    "version": 3
   },
   "file_extension": ".py",
   "mimetype": "text/x-python",
   "name": "python",
   "nbconvert_exporter": "python",
   "pygments_lexer": "ipython3",
   "version": "3.9.19"
  }
 },
 "nbformat": 4,
 "nbformat_minor": 2
}
